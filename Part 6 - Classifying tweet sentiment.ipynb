{
 "cells": [
  {
   "cell_type": "code",
   "execution_count": null,
   "id": "10ae6b51",
   "metadata": {},
   "outputs": [],
   "source": [
    "import pandas as pd"
   ]
  },
  {
   "cell_type": "markdown",
   "id": "3f995353",
   "metadata": {},
   "source": [
    "## classifying presidential tweets"
   ]
  },
  {
   "cell_type": "code",
   "execution_count": null,
   "id": "5f128ae8",
   "metadata": {},
   "outputs": [],
   "source": [
    "pres_tweets = pd.read_csv('pres_tweets_merged.csv')"
   ]
  },
  {
   "cell_type": "code",
   "execution_count": null,
   "id": "92e5b5fa",
   "metadata": {},
   "outputs": [],
   "source": [
    "import nltk\n",
    "from nltk.corpus import stopwords\n",
    "from nltk.tag import pos_tag\n",
    "from nltk.stem.wordnet import WordNetLemmatizer\n",
    "import re, string\n",
    "\n",
    "def remove_noise(tweet_tokens, stop_words = ()):\n",
    "\n",
    "    cleaned_tokens = []\n",
    "\n",
    "    for token, tag in pos_tag(tweet_tokens):\n",
    "        token = re.sub('http[s]?://(?:[a-zA-Z]|[0-9]|[$-_@.&+#]|[!*\\(\\),]|'\\\n",
    "                       '(?:%[0-9a-fA-F][0-9a-fA-F]))+','', token)\n",
    "        token = re.sub(\"(@[A-Za-z0-9_]+)\",\"\", token)\n",
    "\n",
    "        if tag.startswith(\"NN\"):\n",
    "            pos = 'n'\n",
    "        elif tag.startswith('VB'):\n",
    "            pos = 'v'\n",
    "        else:\n",
    "            pos = 'a'\n",
    "\n",
    "        lemmatizer = WordNetLemmatizer()\n",
    "        token = lemmatizer.lemmatize(token, pos)\n",
    "\n",
    "        if len(token) > 0 and token not in string.punctuation and token.lower() not in stop_words:\n",
    "            cleaned_tokens.append(token.lower())\n",
    "    return cleaned_tokens"
   ]
  },
  {
   "cell_type": "code",
   "execution_count": null,
   "id": "98a55a48",
   "metadata": {},
   "outputs": [],
   "source": [
    "import pickle\n",
    "from nltk import classify\n",
    "from nltk import NaiveBayesClassifier\n",
    "\n",
    "#upload sentiment model\n",
    "with open('NBsentiment_classifier.pickle', 'rb') as f:\n",
    "     classifier = pickle.load(f)"
   ]
  },
  {
   "cell_type": "code",
   "execution_count": null,
   "id": "11dbf800",
   "metadata": {},
   "outputs": [],
   "source": [
    "from nltk.tokenize import word_tokenize"
   ]
  },
  {
   "cell_type": "code",
   "execution_count": null,
   "id": "784ab9b8",
   "metadata": {},
   "outputs": [],
   "source": [
    "from time import perf_counter\n",
    "start = perf_counter()\n",
    "\n",
    "tweet_tokens = remove_noise(word_tokenize(pres_tweets['tweet'][152227]))\n",
    "sentiment = classifier.classify(dict([token, True] for token in tweet_tokens))\n",
    "print(sentiment)\n",
    "prob_dist = classifier.prob_classify(dict([token, True] for token in tweet_tokens))\n",
    "print(prob_dist)\n",
    "print(prob_dist.prob('Positive'))\n",
    "print(prob_dist.prob('Negative'))\n",
    "\n",
    "end = perf_counter()\n",
    "execution_time = (end - start)\n",
    "print(execution_time)"
   ]
  },
  {
   "cell_type": "code",
   "execution_count": null,
   "id": "53d9b7c5",
   "metadata": {},
   "outputs": [],
   "source": [
    "def get_sentiment(x):\n",
    "    tweet_tokens = remove_noise(word_tokenize(x))\n",
    "    sentiment = classifier.classify(dict([token, True] for token in tweet_tokens))\n",
    "    return sentiment"
   ]
  },
  {
   "cell_type": "code",
   "execution_count": null,
   "id": "38cad53c",
   "metadata": {},
   "outputs": [],
   "source": [
    "pres_tweets['sentiment'] = list(map(get_sentiment, pres_tweets['tweet']))"
   ]
  },
  {
   "cell_type": "code",
   "execution_count": null,
   "id": "0b7657a5",
   "metadata": {},
   "outputs": [],
   "source": [
    "pres_tweets.drop('tweet_processed', axis=1, inplace=True)"
   ]
  },
  {
   "cell_type": "code",
   "execution_count": null,
   "id": "4435dee5",
   "metadata": {},
   "outputs": [],
   "source": [
    "#removing tweet column so Tableau can read csv\n",
    "\n",
    "pres_sentiments = pres_tweets.drop('tweet', axis=1)\n",
    "pres_sentiments.to_csv('pres_sentiments.csv', index=False)"
   ]
  },
  {
   "cell_type": "code",
   "execution_count": null,
   "id": "2b3252bd",
   "metadata": {},
   "outputs": [],
   "source": [
    "pres_tweets.to_csv('pres_tweets_w_sentiment.csv', index=False)"
   ]
  },
  {
   "cell_type": "code",
   "execution_count": null,
   "id": "59c3e503",
   "metadata": {},
   "outputs": [],
   "source": [
    "pres_tweets['sentiment'].value_counts()"
   ]
  },
  {
   "cell_type": "markdown",
   "id": "21c0b03b",
   "metadata": {},
   "source": [
    "## classifying gubernatorial tweets"
   ]
  },
  {
   "cell_type": "code",
   "execution_count": null,
   "id": "21d04dea",
   "metadata": {},
   "outputs": [],
   "source": [
    "gub_tweets = pd.read_csv('gub_tweets_merged.csv')"
   ]
  },
  {
   "cell_type": "code",
   "execution_count": null,
   "id": "3dfaa56b",
   "metadata": {},
   "outputs": [],
   "source": [
    "gub_tweets['sentiment'] = list(map(get_sentiment, gub_tweets['tweet']))"
   ]
  },
  {
   "cell_type": "code",
   "execution_count": null,
   "id": "98d78441",
   "metadata": {},
   "outputs": [],
   "source": [
    "gub_tweets"
   ]
  },
  {
   "cell_type": "code",
   "execution_count": null,
   "id": "c7367332",
   "metadata": {},
   "outputs": [],
   "source": [
    "gub_tweets.drop('tweet_processed', axis=1, inplace=True)"
   ]
  },
  {
   "cell_type": "code",
   "execution_count": null,
   "id": "011a3aa6",
   "metadata": {},
   "outputs": [],
   "source": [
    "#removing tweet column so Tableau can read csv\n",
    "\n",
    "gub_sentiments = gub_tweets.drop('tweet', axis=1)\n",
    "gub_sentiments.to_csv('gub_sentiments.csv', index=False)"
   ]
  },
  {
   "cell_type": "code",
   "execution_count": null,
   "id": "a50c0870",
   "metadata": {},
   "outputs": [],
   "source": [
    "gub_tweets.to_csv('gub_tweets_w_sentiment.csv', index=False)"
   ]
  },
  {
   "cell_type": "code",
   "execution_count": null,
   "id": "e3ef8503",
   "metadata": {},
   "outputs": [],
   "source": [
    "gub_tweets['sentiment'].value_counts()"
   ]
  },
  {
   "cell_type": "markdown",
   "id": "50294c41",
   "metadata": {},
   "source": [
    "## adding aggregate sentiment info to df's"
   ]
  },
  {
   "cell_type": "code",
   "execution_count": null,
   "id": "5a5dbf41",
   "metadata": {},
   "outputs": [],
   "source": [
    "#add column to candidate df's with aggregate sentiment info\n",
    "pres_candidates_df = pd.read_csv('pres.csv')\n",
    "pres_candidates_df"
   ]
  },
  {
   "cell_type": "code",
   "execution_count": null,
   "id": "41392528",
   "metadata": {},
   "outputs": [],
   "source": [
    "list(pres_candidates_df.candidate.values)"
   ]
  },
  {
   "cell_type": "code",
   "execution_count": null,
   "id": "3b7fc6f4",
   "metadata": {},
   "outputs": [],
   "source": [
    "def get_percent_positive(candidate, year):\n",
    "    df = pres_tweets[(pres_tweets['candidate']== candidate) & (pres_tweets['year'] == year)]\n",
    "    percent_positive = len(df[df['sentiment']=='Positive'])/len(df)\n",
    "    return percent_positive"
   ]
  },
  {
   "cell_type": "code",
   "execution_count": null,
   "id": "00d24763",
   "metadata": {},
   "outputs": [],
   "source": [
    "pres_candidates_df['percent_positive'] = [get_percent_positive(pres_candidates_df['candidate'][i],pres_candidates_df['year'][i]) for i in range(len(pres_candidates_df))]\n"
   ]
  },
  {
   "cell_type": "code",
   "execution_count": null,
   "id": "6b8427f3",
   "metadata": {},
   "outputs": [],
   "source": [
    "#add total # tweets per candidate\n",
    "def get_percent_total_tweets(candidate, year):\n",
    "    df = pres_tweets[pres_tweets['year']== year]\n",
    "    percent_total_tweets = len(df[df['candidate']== candidate])/len(df)\n",
    "    return percent_total_tweets"
   ]
  },
  {
   "cell_type": "code",
   "execution_count": null,
   "id": "8a920f6c",
   "metadata": {},
   "outputs": [],
   "source": [
    "pres_candidates_df['percent_total_tweets'] = [get_percent_total_tweets(pres_candidates_df['candidate'][i],pres_candidates_df['year'][i]) for i in range(len(pres_candidates_df))]\n"
   ]
  },
  {
   "cell_type": "code",
   "execution_count": null,
   "id": "c79cc6d8",
   "metadata": {},
   "outputs": [],
   "source": [
    "pres_candidates_df"
   ]
  },
  {
   "cell_type": "code",
   "execution_count": null,
   "id": "0c4b7c27",
   "metadata": {},
   "outputs": [],
   "source": [
    "#convert year column to object type\n",
    "pres_candidates_df['year'] = pres_candidates_df['year'].astype(object)"
   ]
  },
  {
   "cell_type": "code",
   "execution_count": null,
   "id": "c413c87f",
   "metadata": {},
   "outputs": [],
   "source": [
    "pres_candidates_df.corr()"
   ]
  },
  {
   "cell_type": "code",
   "execution_count": null,
   "id": "21000931",
   "metadata": {},
   "outputs": [],
   "source": [
    "#not much correlation with sentiment, more correllation with % total tweets..."
   ]
  },
  {
   "cell_type": "code",
   "execution_count": null,
   "id": "d8df90c5",
   "metadata": {},
   "outputs": [],
   "source": [
    "#do same for gubernatorial candidates"
   ]
  },
  {
   "cell_type": "code",
   "execution_count": null,
   "id": "11622bd0",
   "metadata": {},
   "outputs": [],
   "source": [
    "gub_candidates_df = pd.read_csv('gub.csv', index_col=0)\n",
    "gub_candidates_df.head(5)"
   ]
  },
  {
   "cell_type": "code",
   "execution_count": null,
   "id": "c5c67f10",
   "metadata": {},
   "outputs": [],
   "source": [
    "def get_percent_positive2(candidate, year):\n",
    "    df = gub_tweets[(gub_tweets['candidate']== candidate) & (gub_tweets['year'] == year)]\n",
    "    if len(df) == 0:\n",
    "        return 0\n",
    "    else:\n",
    "        percent_positive = len(df[df['sentiment']=='Positive'])/len(df)\n",
    "        return percent_positive"
   ]
  },
  {
   "cell_type": "code",
   "execution_count": null,
   "id": "1002038f",
   "metadata": {},
   "outputs": [],
   "source": [
    "gub_candidates_df['percent_positive'] = [get_percent_positive2(gub_candidates_df['candidate'][i],gub_candidates_df['year'][i]) for i in range(len(gub_candidates_df))]"
   ]
  },
  {
   "cell_type": "code",
   "execution_count": null,
   "id": "9908e204",
   "metadata": {},
   "outputs": [],
   "source": [
    "percent_total_tweets = []\n",
    "for i in range(len(gub_candidates_df)):\n",
    "    c = gub_candidates_df['candidate'].iloc[i]\n",
    "    y = gub_candidates_df['year'].iloc[i]\n",
    "    s = gub_candidates_df['state'].iloc[i]\n",
    "    df = gub_tweets[(gub_tweets['year']==y)&(gub_tweets['state']==s)]\n",
    "    if len(df)==0:\n",
    "        print(c, y, s)\n",
    "        break\n",
    "    else:\n",
    "        c_df = df[gub_tweets['candidate']==c]\n",
    "        ppt = len(c_df)/len(df)\n",
    "        percent_total_tweets.append(ppt)"
   ]
  },
  {
   "cell_type": "code",
   "execution_count": null,
   "id": "3c421f4b",
   "metadata": {},
   "outputs": [],
   "source": [
    "gub_candidates_df['percent_total_tweets'] = percent_total_tweets"
   ]
  },
  {
   "cell_type": "code",
   "execution_count": null,
   "id": "c191ece4",
   "metadata": {},
   "outputs": [],
   "source": [
    "gub_candidates_df['year'] = gub_candidates_df['year'].astype(object)"
   ]
  },
  {
   "cell_type": "code",
   "execution_count": null,
   "id": "129d38b8",
   "metadata": {},
   "outputs": [],
   "source": [
    "gub_candidates_df"
   ]
  },
  {
   "cell_type": "code",
   "execution_count": null,
   "id": "0ce332d6",
   "metadata": {},
   "outputs": [],
   "source": [
    "#remove 2006-2008 data as very few tweets\n",
    "gub_candidates_df = gub_candidates_df[gub_candidates_df['year'] != 2006]\n",
    "gub_candidates_df = gub_candidates_df[gub_candidates_df['year'] != 2007]\n",
    "gub_candidates_df = gub_candidates_df[gub_candidates_df['year'] != 2008]"
   ]
  },
  {
   "cell_type": "code",
   "execution_count": null,
   "id": "36d6c2a2",
   "metadata": {},
   "outputs": [],
   "source": [
    "gub_candidates_df.corr()"
   ]
  },
  {
   "cell_type": "code",
   "execution_count": null,
   "id": "19f372b5",
   "metadata": {},
   "outputs": [],
   "source": [
    "#little correlation with sentiment, but .67 correlation with % total tweets "
   ]
  },
  {
   "cell_type": "code",
   "execution_count": null,
   "id": "92d9badb",
   "metadata": {},
   "outputs": [],
   "source": [
    "gub_candidates_df.to_csv('gub_candidates.csv', index=False)\n",
    "pres_candidates_df.to_csv('pres_candidates.csv', index=False)"
   ]
  }
 ],
 "metadata": {
  "kernelspec": {
   "display_name": "Python 3 (ipykernel)",
   "language": "python",
   "name": "python3"
  },
  "language_info": {
   "codemirror_mode": {
    "name": "ipython",
    "version": 3
   },
   "file_extension": ".py",
   "mimetype": "text/x-python",
   "name": "python",
   "nbconvert_exporter": "python",
   "pygments_lexer": "ipython3",
   "version": "3.9.6"
  }
 },
 "nbformat": 4,
 "nbformat_minor": 5
}
