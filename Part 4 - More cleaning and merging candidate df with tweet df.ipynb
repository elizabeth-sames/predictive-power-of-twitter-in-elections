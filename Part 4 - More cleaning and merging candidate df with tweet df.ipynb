{
 "cells": [
  {
   "cell_type": "code",
   "execution_count": null,
   "id": "3d7e4b51",
   "metadata": {},
   "outputs": [],
   "source": [
    "import pandas as pd"
   ]
  },
  {
   "cell_type": "code",
   "execution_count": null,
   "id": "928eb938",
   "metadata": {},
   "outputs": [],
   "source": [
    "data = pd.read_csv('pres.csv')\n",
    "tweets = pd.read_csv('pres_tweets.csv', index_col = 0)"
   ]
  },
  {
   "cell_type": "code",
   "execution_count": null,
   "id": "61b545c7",
   "metadata": {},
   "outputs": [],
   "source": [
    "data.dtypes"
   ]
  },
  {
   "cell_type": "code",
   "execution_count": null,
   "id": "223d352a",
   "metadata": {},
   "outputs": [],
   "source": [
    "tweets.candidate.value_counts(dropna=False)"
   ]
  },
  {
   "cell_type": "code",
   "execution_count": null,
   "id": "7e30f601",
   "metadata": {},
   "outputs": [],
   "source": [
    "#change date column to datetime\n",
    "tweets['date'] = pd.to_datetime(tweets['date'], errors='coerce')"
   ]
  },
  {
   "cell_type": "code",
   "execution_count": null,
   "id": "b1199f44",
   "metadata": {},
   "outputs": [],
   "source": [
    "#drop null\n",
    "tweets.dropna(inplace=True)\n",
    "tweets.reset_index(drop=True, inplace=True)"
   ]
  },
  {
   "cell_type": "code",
   "execution_count": null,
   "id": "94f07ed4",
   "metadata": {},
   "outputs": [],
   "source": [
    "tweets.isnull().sum()"
   ]
  },
  {
   "cell_type": "code",
   "execution_count": null,
   "id": "f2b9ecd9",
   "metadata": {},
   "outputs": [],
   "source": [
    "tweets['year'] = tweets['date'].dt.year"
   ]
  },
  {
   "cell_type": "code",
   "execution_count": null,
   "id": "2aaecca5",
   "metadata": {},
   "outputs": [],
   "source": [
    "tweets.head(5)"
   ]
  },
  {
   "cell_type": "code",
   "execution_count": null,
   "id": "a7cf6756",
   "metadata": {},
   "outputs": [],
   "source": [
    "#merge df on candidate and year\n",
    "tweets_merged = pd.merge(tweets, data,  how='left', left_on=['candidate','year'], right_on = ['candidate','year'])\n"
   ]
  },
  {
   "cell_type": "code",
   "execution_count": null,
   "id": "5c46a64b",
   "metadata": {},
   "outputs": [],
   "source": [
    "tweets_merged.head(5)"
   ]
  },
  {
   "cell_type": "code",
   "execution_count": null,
   "id": "13868ac8",
   "metadata": {},
   "outputs": [],
   "source": [
    "tweets_merged.to_csv('pres_tweets_merged.csv', index=False)"
   ]
  },
  {
   "cell_type": "markdown",
   "id": "85420030",
   "metadata": {},
   "source": [
    "# merge gubernatorial df"
   ]
  },
  {
   "cell_type": "code",
   "execution_count": null,
   "id": "acef0f98",
   "metadata": {},
   "outputs": [],
   "source": [
    "g_cand = pd.read_csv('gub.csv', index_col=0)\n",
    "g_tweets = pd.read_csv('gub_tweets_processed.csv', index_col = 0)"
   ]
  },
  {
   "cell_type": "code",
   "execution_count": null,
   "id": "839fde49",
   "metadata": {},
   "outputs": [],
   "source": [
    "g_cand['party'].value_counts()"
   ]
  },
  {
   "cell_type": "code",
   "execution_count": null,
   "id": "5a875a37",
   "metadata": {},
   "outputs": [],
   "source": [
    "def clean_party(x):\n",
    "    if x in ['Democratic', 'D', 'DFL']:\n",
    "        return 'Democratic'\n",
    "    elif x in ['Republican', 'R']:\n",
    "        return 'Republican'\n",
    "    else:\n",
    "        return 'Other'"
   ]
  },
  {
   "cell_type": "code",
   "execution_count": null,
   "id": "90b7eb37",
   "metadata": {},
   "outputs": [],
   "source": [
    "g_cand['party'] = list(map(clean_party, g_cand['party']))"
   ]
  },
  {
   "cell_type": "code",
   "execution_count": null,
   "id": "ef112e9e",
   "metadata": {},
   "outputs": [],
   "source": [
    "g_tweets['date'] = pd.to_datetime(g_tweets['date'], errors='coerce')"
   ]
  },
  {
   "cell_type": "code",
   "execution_count": null,
   "id": "ee9fd67f",
   "metadata": {},
   "outputs": [],
   "source": [
    "g_tweets.isnull().sum()"
   ]
  },
  {
   "cell_type": "code",
   "execution_count": null,
   "id": "89aba4e1",
   "metadata": {},
   "outputs": [],
   "source": [
    "g_tweets.dropna(inplace=True)\n",
    "g_tweets.reset_index(drop=True, inplace=True)"
   ]
  },
  {
   "cell_type": "code",
   "execution_count": null,
   "id": "a2525203",
   "metadata": {},
   "outputs": [],
   "source": [
    "g_tweets.head(5)"
   ]
  },
  {
   "cell_type": "code",
   "execution_count": null,
   "id": "4be19027",
   "metadata": {},
   "outputs": [],
   "source": [
    "g_tweets['year'] = g_tweets['date'].dt.year"
   ]
  },
  {
   "cell_type": "code",
   "execution_count": null,
   "id": "c78d3192",
   "metadata": {},
   "outputs": [],
   "source": [
    "#merge df on candidate and year\n",
    "g_tweets_merged = pd.merge(g_tweets, g_cand,  how='left', left_on=['candidate','year'], right_on = ['candidate','year'])"
   ]
  },
  {
   "cell_type": "code",
   "execution_count": null,
   "id": "0dade39d",
   "metadata": {},
   "outputs": [],
   "source": [
    "g_tweets_merged['percent_popular_vote'] = g_tweets_merged['percent_popular_vote']/100"
   ]
  },
  {
   "cell_type": "code",
   "execution_count": null,
   "id": "fa647a3b",
   "metadata": {},
   "outputs": [],
   "source": [
    "g_tweets_merged.head(5)"
   ]
  },
  {
   "cell_type": "code",
   "execution_count": null,
   "id": "418f891e",
   "metadata": {},
   "outputs": [],
   "source": [
    "g_tweets_merged.to_csv('gub_tweets_merged.csv', index=False)"
   ]
  }
 ],
 "metadata": {
  "kernelspec": {
   "display_name": "Python 3 (ipykernel)",
   "language": "python",
   "name": "python3"
  },
  "language_info": {
   "codemirror_mode": {
    "name": "ipython",
    "version": 3
   },
   "file_extension": ".py",
   "mimetype": "text/x-python",
   "name": "python",
   "nbconvert_exporter": "python",
   "pygments_lexer": "ipython3",
   "version": "3.9.6"
  }
 },
 "nbformat": 4,
 "nbformat_minor": 5
}
